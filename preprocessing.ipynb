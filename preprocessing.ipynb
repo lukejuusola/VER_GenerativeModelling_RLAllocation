{
 "cells": [
  {
   "cell_type": "code",
   "execution_count": 11,
   "metadata": {},
   "outputs": [],
   "source": [
    "import pandas as pd\n",
    "import numpy as np\n",
    "import os\n",
    "import matplotlib.pyplot as plt\n",
    "import csv"
   ]
  },
  {
   "cell_type": "code",
   "execution_count": 2,
   "metadata": {},
   "outputs": [],
   "source": [
    "# Constants\n",
    "SAMPLES_PER_YEAR = 12 * 24 * 365\n",
    "LESS_WINDY_IDS = [18880, 18881, 18995, 18997, 18998, 18999, 19110, 19111, 19112, 19113]\n",
    "MORE_WINDY_IDS = [23769, 23770, 23771, 23903, 23904, 23905, 23906, 23907, 23908, 24046, 24047,\n",
    "                  24048, 24049, 24050, 24051, 24052, 24053, 24177, 24178, 24179, 24180, 24181]\n",
    "YEARS = [2007, 2008, 2009]"
   ]
  },
  {
   "cell_type": "code",
   "execution_count": null,
   "metadata": {},
   "outputs": [],
   "source": []
  },
  {
   "cell_type": "code",
   "execution_count": 3,
   "metadata": {},
   "outputs": [],
   "source": [
    "def concat_csv(folder_from, file_to, site_ids):\n",
    "\n",
    "    array = np.empty(shape=(0, SAMPLES_PER_YEAR * len(YEARS)))  # size of 3 years of data, with 5min resolution\n",
    "    \n",
    "    # For each file in directory folder_from.\n",
    "    for site_id in site_ids:\n",
    "        data_year = np.empty(shape=(0,))\n",
    "        for year in YEARS:\n",
    "            f = str(site_id) + '-' + str(year) + '.csv'\n",
    "            filename = os.path.join(folder_from, f)\n",
    "            print(filename)\n",
    "            \n",
    "            # Select only values of interest\n",
    "            df = pd.read_csv(filename).iloc[3:, 5]\n",
    "            values = df.values.astype('float')\n",
    "            \n",
    "            # Normalize to get values in [0, 1]\n",
    "            values = values / np.max(values)\n",
    "            \n",
    "            # Concatenate only if profile is not all zeros\n",
    "            if (np.sum(values) > 0.):\n",
    "                data_year = np.concatenate((data_year, values))\n",
    "        \n",
    "        array = np.vstack((array, data_year))\n",
    "\n",
    "    np.savetxt(file_to, array, delimiter=',')\n",
    "    return array\n",
    "\n",
    "def get_16mw(folder_from, site_ids):\n",
    "    \n",
    "    site_ids_16mw = []\n",
    "    \n",
    "    # For each file in directory folder_from.\n",
    "    for site_id in site_ids:\n",
    "        for year in YEARS:\n",
    "            f = str(site_id) + '-' + str(year) + '.csv'\n",
    "            filename = os.path.join(folder_from, f)\n",
    "            #print(filename)\n",
    "            \n",
    "            # Select only values of interest\n",
    "            df = pd.read_csv(filename).iloc[3:, 5]\n",
    "            values = df.values.astype('float')\n",
    "            \n",
    "            # Store max value in time series\n",
    "            if np.max(values) == 16:\n",
    "                site_ids_16mw.append(site_id)\n",
    "    return site_ids_16mw"
   ]
  },
  {
   "cell_type": "code",
   "execution_count": 4,
   "metadata": {},
   "outputs": [
    {
     "name": "stdout",
     "output_type": "stream",
     "text": [
      "Less windy: [18880, 18880, 18880, 18881, 18881, 18881, 18995, 18995, 18995, 18997, 18997, 18997, 19110, 19110, 19110, 19111, 19111, 19111, 19112, 19112, 19112, 19113, 19113, 19113]\n"
     ]
    }
   ],
   "source": [
    "folder_from = '/Volumes/Eluteng/cs159_data/less_windy/'\n",
    "mw16_less_windy = get_16mw(folder_from, LESS_WINDY_IDS)\n",
    "print('Less windy:', mw16_less_windy)\n",
    "\n",
    "# folder_from2 = '/Volumes/Eluteng/cs159_data/more_windy/'\n",
    "# mw16_more_windy = get_16mw(folder_from2, MORE_WINDY_IDS)\n",
    "# print('\\n\\nMore: windy:', mw16_more_windy)"
   ]
  },
  {
   "cell_type": "code",
   "execution_count": 5,
   "metadata": {},
   "outputs": [
    {
     "name": "stdout",
     "output_type": "stream",
     "text": [
      "/Volumes/Eluteng/cs159_data/less_windy/18880-2007.csv\n",
      "/Volumes/Eluteng/cs159_data/less_windy/18880-2008.csv\n",
      "/Volumes/Eluteng/cs159_data/less_windy/18880-2009.csv\n",
      "/Volumes/Eluteng/cs159_data/less_windy/18881-2007.csv\n",
      "/Volumes/Eluteng/cs159_data/less_windy/18881-2008.csv\n",
      "/Volumes/Eluteng/cs159_data/less_windy/18881-2009.csv\n",
      "/Volumes/Eluteng/cs159_data/less_windy/18995-2007.csv\n",
      "/Volumes/Eluteng/cs159_data/less_windy/18995-2008.csv\n",
      "/Volumes/Eluteng/cs159_data/less_windy/18995-2009.csv\n",
      "/Volumes/Eluteng/cs159_data/less_windy/18997-2007.csv\n",
      "/Volumes/Eluteng/cs159_data/less_windy/18997-2008.csv\n",
      "/Volumes/Eluteng/cs159_data/less_windy/18997-2009.csv\n",
      "/Volumes/Eluteng/cs159_data/less_windy/18998-2007.csv\n",
      "/Volumes/Eluteng/cs159_data/less_windy/18998-2008.csv\n",
      "/Volumes/Eluteng/cs159_data/less_windy/18998-2009.csv\n",
      "/Volumes/Eluteng/cs159_data/less_windy/18999-2007.csv\n",
      "/Volumes/Eluteng/cs159_data/less_windy/18999-2008.csv\n",
      "/Volumes/Eluteng/cs159_data/less_windy/18999-2009.csv\n",
      "/Volumes/Eluteng/cs159_data/less_windy/19110-2007.csv\n",
      "/Volumes/Eluteng/cs159_data/less_windy/19110-2008.csv\n",
      "/Volumes/Eluteng/cs159_data/less_windy/19110-2009.csv\n",
      "/Volumes/Eluteng/cs159_data/less_windy/19111-2007.csv\n",
      "/Volumes/Eluteng/cs159_data/less_windy/19111-2008.csv\n",
      "/Volumes/Eluteng/cs159_data/less_windy/19111-2009.csv\n",
      "/Volumes/Eluteng/cs159_data/less_windy/19112-2007.csv\n",
      "/Volumes/Eluteng/cs159_data/less_windy/19112-2008.csv\n",
      "/Volumes/Eluteng/cs159_data/less_windy/19112-2009.csv\n",
      "/Volumes/Eluteng/cs159_data/less_windy/19113-2007.csv\n",
      "/Volumes/Eluteng/cs159_data/less_windy/19113-2008.csv\n",
      "/Volumes/Eluteng/cs159_data/less_windy/19113-2009.csv\n"
     ]
    }
   ],
   "source": [
    "folder_from = '/Volumes/Eluteng/cs159_data/less_windy/'\n",
    "file_to = 'generative_models/data/less_windy.csv'\n",
    "less_windy_array = concat_csv(folder_from, file_to, LESS_WINDY_IDS)\n",
    "\n",
    "# folder_from2 = '/Volumes/Eluteng/cs159_data/more_windy/'\n",
    "# file_to2 = 'generative_models/data/more_windy.csv'\n",
    "# more_windy_array =  concat_csv(folder_from2, file_to2, MORE_WINDY_IDS)"
   ]
  },
  {
   "cell_type": "code",
   "execution_count": 29,
   "metadata": {},
   "outputs": [
    {
     "name": "stdout",
     "output_type": "stream",
     "text": [
      "(10, 315360)\n"
     ]
    }
   ],
   "source": [
    "print(less_windy_array.shape)"
   ]
  },
  {
   "cell_type": "code",
   "execution_count": 23,
   "metadata": {},
   "outputs": [
    {
     "data": {
      "text/plain": [
       "[<matplotlib.lines.Line2D at 0x11d08d5c0>]"
      ]
     },
     "execution_count": 23,
     "metadata": {},
     "output_type": "execute_result"
    },
    {
     "data": {
      "image/png": "[encoded data removed]",
      "text/plain": [
       "<Figure size 432x288 with 1 Axes>"
      ]
     },
     "metadata": {
      "needs_background": "light"
     },
     "output_type": "display_data"
    }
   ],
   "source": [
    "profile = less_windy_array[1, 2*576:3*576]\n",
    "plt.plot(profile)"
   ]
  },
  {
   "cell_type": "code",
   "execution_count": 9,
   "metadata": {},
   "outputs": [
    {
     "data": {
      "text/plain": [
       "576"
      ]
     },
     "execution_count": 9,
     "metadata": {},
     "output_type": "execute_result"
    }
   ],
   "source": [
    "24*24"
   ]
  },
  {
   "cell_type": "code",
   "execution_count": 13,
   "metadata": {},
   "outputs": [
    {
     "name": "stdout",
     "output_type": "stream",
     "text": [
      "Actual_33.95_-118.15_2006_DPV_74MW_5_Min.csv\n",
      "Actual_33.85_-118.25_2006_DPV_74MW_5_Min.csv\n",
      "Actual_33.85_-117.95_2006_DPV_74MW_5_Min.csv\n",
      "Actual_33.95_-117.65_2006_DPV_74MW_5_Min.csv\n",
      "Actual_33.75_-117.85_2006_DPV_74MW_5_Min.csv\n",
      "Actual_34.05_-117.85_2006_DPV_74MW_5_Min.csv\n",
      "Actual_33.75_-118.35_2006_DPV_74MW_5_Min.csv\n",
      "Actual_33.55_-117.65_2006_DPV_74MW_5_Min.csv\n",
      "Actual_33.65_-117.75_2006_DPV_74MW_5_Min.csv\n",
      "Actual_33.75_-118.25_2006_DPV_74MW_5_Min.csv\n",
      "Actual_33.75_-117.95_2006_DPV_74MW_5_Min.csv\n",
      "Actual_33.65_-117.65_2006_DPV_74MW_5_Min.csv\n",
      "Actual_33.55_-117.75_2006_DPV_74MW_5_Min.csv\n",
      "Actual_33.85_-117.85_2006_DPV_74MW_5_Min.csv\n",
      "Actual_33.95_-118.45_2006_DPV_74MW_5_Min.csv\n",
      "Actual_33.95_-118.05_2006_DPV_74MW_5_Min.csv\n",
      "Actual_33.85_-118.35_2006_DPV_74MW_5_Min.csv\n",
      "Actual_33.95_-117.75_2006_DPV_74MW_5_Min.csv\n",
      "Actual_33.45_-117.65_2006_DPV_74MW_5_Min.csv\n",
      "Actual_33.75_-117.75_2006_DPV_74MW_5_Min.csv\n",
      "Actual_34.05_-117.75_2006_DPV_74MW_5_Min.csv\n",
      "Actual_33.65_-117.85_2006_DPV_74MW_5_Min.csv\n",
      "Actual_33.75_-118.05_2006_DPV_74MW_5_Min.csv\n",
      "Actual_33.95_-118.25_2006_DPV_74MW_5_Min.csv\n",
      "Actual_33.85_-118.15_2006_DPV_74MW_5_Min.csv\n",
      "Actual_33.95_-117.95_2006_DPV_74MW_5_Min.csv\n",
      "Actual_33.85_-117.75_2006_DPV_74MW_5_Min.csv\n",
      "Actual_33.95_-117.85_2006_DPV_74MW_5_Min.csv\n",
      "Actual_33.95_-118.35_2006_DPV_74MW_5_Min.csv\n",
      "Actual_33.85_-118.05_2006_DPV_74MW_5_Min.csv\n",
      "Actual_34.05_-117.65_2006_DPV_74MW_5_Min.csv\n",
      "Actual_33.65_-117.95_2006_DPV_74MW_5_Min.csv\n"
     ]
    }
   ],
   "source": [
    "def concat_solar(folder_from):\n",
    "    \n",
    "    filenames = os.listdir(folder_from)\n",
    "    \n",
    "    X = None\n",
    "    \n",
    "    # For each file in directory folder_from.\n",
    "    for file in filenames:\n",
    "        print(file)\n",
    "            \n",
    "        # Select only values of interest\n",
    "        df = pd.read_csv(filename)\n",
    "        values = df.values[:, 1].astype('float')\n",
    "        \n",
    "        if X is None:\n",
    "            X = values.reshape((1, values.size))\n",
    "        else:\n",
    "            X = np.vstack((X, values))\n",
    "            \n",
    "    return X\n",
    "\n",
    "folder = 'generative_models/data/solar_data_2006/'\n",
    "file_to = 'generative_models/data/solar_2006.csv'\n",
    "X_solar = concat_solar(folder)\n",
    "\n",
    "np.savetxt(file_to, X_solar, delimiter=',')"
   ]
  },
  {
   "cell_type": "code",
   "execution_count": 12,
   "metadata": {},
   "outputs": [
    {
     "name": "stdout",
     "output_type": "stream",
     "text": [
      "(32, 105120)\n"
     ]
    }
   ],
   "source": [
    "with open(file_to, 'r') as csvfile:\n",
    "    reader = csv.reader(csvfile)\n",
    "    rows = [row for row in reader]\n",
    "rows = np.array(rows, dtype=float)\n",
    "\n",
    "print(rows.shape)"
   ]
  },
  {
   "cell_type": "code",
   "execution_count": 15,
   "metadata": {},
   "outputs": [
    {
     "data": {
      "text/plain": [
       "65.7"
      ]
     },
     "execution_count": 15,
     "metadata": {},
     "output_type": "execute_result"
    }
   ],
   "source": [
    "np.max(rows)"
   ]
  },
  {
   "cell_type": "code",
   "execution_count": null,
   "metadata": {},
   "outputs": [],
   "source": []
  }
 ],
 "metadata": {
  "kernelspec": {
   "display_name": "Python 3",
   "language": "python",
   "name": "python3"
  },
  "language_info": {
   "codemirror_mode": {
    "name": "ipython",
    "version": 3
   },
   "file_extension": ".py",
   "mimetype": "text/x-python",
   "name": "python",
   "nbconvert_exporter": "python",
   "pygments_lexer": "ipython3",
   "version": "3.6.8"
  }
 },
 "nbformat": 4,
 "nbformat_minor": 2
}
